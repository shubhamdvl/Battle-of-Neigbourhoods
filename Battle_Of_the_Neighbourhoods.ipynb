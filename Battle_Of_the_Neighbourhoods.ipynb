{
  "nbformat": 4,
  "nbformat_minor": 0,
  "metadata": {
    "colab": {
      "name": "Battle Of the Neighbourhoods",
      "provenance": []
    },
    "kernelspec": {
      "name": "python3",
      "display_name": "Python 3"
    }
  },
  "cells": [
    {
      "cell_type": "markdown",
      "metadata": {
        "id": "R_ycS19Ozxvv",
        "colab_type": "text"
      },
      "source": [
        "\n",
        "\n",
        "Welcome to my IBM Capstone Project Notebook!\n",
        "\n",
        "\n"
      ]
    },
    {
      "cell_type": "markdown",
      "metadata": {
        "id": "3qmssU35z9Br",
        "colab_type": "text"
      },
      "source": [
        "\n",
        "\n",
        "> Importing important libraries\n",
        "\n",
        "\n"
      ]
    },
    {
      "cell_type": "code",
      "metadata": {
        "id": "a7cxW-GtzSFE",
        "colab_type": "code",
        "colab": {}
      },
      "source": [
        "import pandas as pd\n",
        "import numpy as np"
      ],
      "execution_count": 1,
      "outputs": []
    },
    {
      "cell_type": "markdown",
      "metadata": {
        "id": "mbgk4S1VzwJ6",
        "colab_type": "text"
      },
      "source": [
        "Hello World\n"
      ]
    },
    {
      "cell_type": "code",
      "metadata": {
        "id": "8mHJWOHb0E-g",
        "colab_type": "code",
        "colab": {
          "base_uri": "https://localhost:8080/",
          "height": 33
        },
        "outputId": "58c2e870-3804-4cff-adbf-0c42a736df61"
      },
      "source": [
        "print(\"Hello, Capstone Project Course!\")"
      ],
      "execution_count": 2,
      "outputs": [
        {
          "output_type": "stream",
          "text": [
            "Hello, Capstone Project Course!\n"
          ],
          "name": "stdout"
        }
      ]
    },
    {
      "cell_type": "code",
      "metadata": {
        "id": "Vr66Mfmy0Mpc",
        "colab_type": "code",
        "colab": {}
      },
      "source": [
        ""
      ],
      "execution_count": null,
      "outputs": []
    }
  ]
}